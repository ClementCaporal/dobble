{
 "cells": [
  {
   "cell_type": "code",
   "execution_count": 39,
   "metadata": {},
   "outputs": [],
   "source": [
    "\n",
    "\n",
    "import card\n",
    "import mask\n",
    "import pdf\n",
    "import preprocess\n",
    "\n",
    "symbols_folder = \"data/symbols_clo\"\n",
    "square_symbols_folder = \"data/square_symbols\"\n",
    "masks_folder = \"data/masks\"\n",
    "cards_folder = \"data/cards\"\n",
    "print_folder = \"data/print\""
   ]
  },
  {
   "cell_type": "code",
   "execution_count": 40,
   "metadata": {},
   "outputs": [],
   "source": [
    "\n",
    "\n",
    "import math\n",
    "import os\n",
    "\n",
    "import cv2\n",
    "import img2pdf\n",
    "import numpy as np\n",
    "from tqdm import tqdm\n",
    "\n",
    "from utils import new_folder"
   ]
  },
  {
   "cell_type": "code",
   "execution_count": 41,
   "metadata": {},
   "outputs": [],
   "source": [
    "\n",
    "print_folder = \"data/print\"\n",
    "\n",
    "out_print_folder=print_folder\n",
    "card_size_cm = 8.2"
   ]
  },
  {
   "cell_type": "code",
   "execution_count": 42,
   "metadata": {},
   "outputs": [
    {
     "name": "stdout",
     "output_type": "stream",
     "text": [
      "2 3\n",
      "pad 1682 1865\n",
      "dw 560\n",
      "(466, 7682, 3) (467, 7682, 3)\n",
      "(3000, 560, 3) (3000, 562, 3)\n",
      "10\n"
     ]
    },
    {
     "name": "stderr",
     "output_type": "stream",
     "text": [
      "Batch cards:   0%|          | 0/10 [00:00<?, ?it/s]"
     ]
    },
    {
     "name": "stdout",
     "output_type": "stream",
     "text": [
      "line (3000, 7682, 3)\n",
      "line (3000, 7682, 3)\n",
      "line (3000, 7682, 3)\n",
      "column (10865, 7682, 3)\n"
     ]
    },
    {
     "name": "stderr",
     "output_type": "stream",
     "text": [
      "Batch cards:  10%|█         | 1/10 [00:00<00:07,  1.23it/s]"
     ]
    },
    {
     "name": "stdout",
     "output_type": "stream",
     "text": [
      "line (3000, 7682, 3)\n",
      "line (3000, 7682, 3)\n",
      "line (3000, 7682, 3)\n",
      "column (10865, 7682, 3)\n"
     ]
    },
    {
     "name": "stderr",
     "output_type": "stream",
     "text": [
      "Batch cards:  20%|██        | 2/10 [00:01<00:06,  1.22it/s]"
     ]
    },
    {
     "name": "stdout",
     "output_type": "stream",
     "text": [
      "line (3000, 7682, 3)\n",
      "line (3000, 7682, 3)\n",
      "line (3000, 7682, 3)\n",
      "column (10865, 7682, 3)\n"
     ]
    },
    {
     "name": "stderr",
     "output_type": "stream",
     "text": [
      "Batch cards:  30%|███       | 3/10 [00:02<00:05,  1.21it/s]"
     ]
    },
    {
     "name": "stdout",
     "output_type": "stream",
     "text": [
      "line (3000, 7682, 3)\n",
      "line (3000, 7682, 3)\n",
      "line (3000, 7682, 3)\n",
      "column (10865, 7682, 3)\n"
     ]
    },
    {
     "name": "stderr",
     "output_type": "stream",
     "text": [
      "Batch cards:  40%|████      | 4/10 [00:03<00:04,  1.21it/s]"
     ]
    },
    {
     "name": "stdout",
     "output_type": "stream",
     "text": [
      "line (3000, 7682, 3)\n",
      "line (3000, 7682, 3)\n",
      "line (3000, 7682, 3)\n",
      "column (10865, 7682, 3)\n"
     ]
    },
    {
     "name": "stderr",
     "output_type": "stream",
     "text": [
      "Batch cards:  50%|█████     | 5/10 [00:04<00:04,  1.19it/s]"
     ]
    },
    {
     "name": "stdout",
     "output_type": "stream",
     "text": [
      "line (3000, 7682, 3)\n",
      "line (3000, 7682, 3)\n",
      "line (3000, 7682, 3)\n",
      "column (10865, 7682, 3)\n"
     ]
    },
    {
     "name": "stderr",
     "output_type": "stream",
     "text": [
      "Batch cards:  60%|██████    | 6/10 [00:04<00:03,  1.21it/s]"
     ]
    },
    {
     "name": "stdout",
     "output_type": "stream",
     "text": [
      "line (3000, 7682, 3)\n",
      "line (3000, 7682, 3)\n",
      "line (3000, 7682, 3)\n",
      "column (10865, 7682, 3)\n"
     ]
    },
    {
     "name": "stderr",
     "output_type": "stream",
     "text": [
      "Batch cards:  70%|███████   | 7/10 [00:05<00:02,  1.21it/s]"
     ]
    },
    {
     "name": "stdout",
     "output_type": "stream",
     "text": [
      "line (3000, 7682, 3)\n",
      "line (3000, 7682, 3)\n",
      "line (3000, 7682, 3)\n",
      "column (10865, 7682, 3)\n"
     ]
    },
    {
     "name": "stderr",
     "output_type": "stream",
     "text": [
      "Batch cards:  80%|████████  | 8/10 [00:06<00:01,  1.21it/s]"
     ]
    },
    {
     "name": "stdout",
     "output_type": "stream",
     "text": [
      "line (3000, 7682, 3)\n",
      "line (3000, 7682, 3)\n",
      "line (3000, 7682, 3)\n",
      "column (10865, 7682, 3)\n"
     ]
    },
    {
     "name": "stderr",
     "output_type": "stream",
     "text": [
      "Batch cards:  90%|█████████ | 9/10 [00:07<00:00,  1.21it/s]"
     ]
    },
    {
     "name": "stdout",
     "output_type": "stream",
     "text": [
      "line (3000, 7682, 3)\n",
      "line (3000, 7682, 3)\n",
      "line (3000, 7682, 3)\n",
      "column (10865, 7682, 3)\n"
     ]
    },
    {
     "name": "stderr",
     "output_type": "stream",
     "text": [
      "Batch cards: 100%|██████████| 10/10 [00:08<00:00,  1.24it/s]\n"
     ]
    }
   ],
   "source": [
    "names = [f.name for f in os.scandir(cards_folder)]\n",
    "assert len(names) == 57\n",
    "names += [None]  # Pad to have an even size\n",
    "\n",
    "pdf_path = os.path.join(out_print_folder, \"cards.pdf\")\n",
    "batches_folder = os.path.join(out_print_folder, \"batches\")\n",
    "new_folder(batches_folder)\n",
    "\n",
    "first_img = cv2.imread(os.path.join(cards_folder, names[0]))\n",
    "card_size_pix = first_img.shape[0]\n",
    "pix_per_cm = float(card_size_pix) / card_size_cm\n",
    "w_a4_cm = 21.0\n",
    "h_a4_cm = 29.7\n",
    "\n",
    "w_num_pix = math.floor(w_a4_cm * pix_per_cm)\n",
    "h_num_pix = math.floor(h_a4_cm * pix_per_cm)\n",
    "\n",
    "# get maximum number of patch to add in the final image\n",
    "nb_patch_in_w = math.floor(w_num_pix / card_size_pix)\n",
    "nb_patch_in_h = math.floor(h_num_pix / card_size_pix)\n",
    "\n",
    "print(nb_patch_in_w, nb_patch_in_h)\n",
    "\n",
    "w_pad = w_num_pix-card_size_pix * nb_patch_in_w\n",
    "h_pad = h_num_pix-card_size_pix * nb_patch_in_h\n",
    "\n",
    "print(\"pad\", w_pad, h_pad)\n",
    "\n",
    "assert w_pad > 0 and h_pad > 0\n",
    "\n",
    "\n",
    "dw = int(w_pad/(1+nb_patch_in_w))\n",
    "print(\"dw\", dw)\n",
    "w_patch = 255*np.ones((card_size_pix, dw, 3), np.uint8)\n",
    "w_patch_right = 255*np.ones((card_size_pix, w_pad-(dw*nb_patch_in_w), 3), np.uint8)\n",
    "\n",
    "dh = int(h_pad/(1+nb_patch_in_h))\n",
    "h_patch = 255*np.ones((dh, w_num_pix, 3), np.uint8)\n",
    "h_patch_bot = 255*np.ones((h_pad-(dh*nb_patch_in_h), w_num_pix, 3), np.uint8)\n",
    "\n",
    "print(h_patch.shape, h_patch_bot.shape)\n",
    "\n",
    "print(w_patch.shape, w_patch_right.shape)\n",
    "\n",
    "nb_patch_per_batch = nb_patch_in_w*nb_patch_in_h\n",
    "nb_of_batch = math.ceil(len(names)/(nb_patch_per_batch))\n",
    "print(nb_of_batch)\n",
    "batches_paths = []\n",
    "for k in tqdm(range(nb_of_batch), \"Batch cards\"):\n",
    "    batch_path = os.path.join(batches_folder, f\"batch_cards_{k}.png\")\n",
    "\n",
    "    batch_images = [cv2.imread(os.path.join(cards_folder, name))\n",
    "                    if name is not None else 255*np.ones_like(first_img)\n",
    "                    for name in names[nb_patch_per_batch*k:nb_patch_per_batch*k+nb_patch_per_batch]]\n",
    "\n",
    "    columns = []\n",
    "    for column in range(nb_patch_in_h):\n",
    "        columns.append(h_patch)\n",
    "        temp_line = []\n",
    "        for line in range(nb_patch_in_w):\n",
    "            temp_line.append(w_patch)\n",
    "            idx = line*nb_patch_in_h+column\n",
    "            if idx < len(batch_images):\n",
    "                temp_line.append(batch_images[idx])\n",
    "            else: # if no more cards to add, pad with white\n",
    "                temp_line.append(255*np.ones_like(first_img))\n",
    "        temp_line.append(w_patch_right)\n",
    "        batch_img = cv2.hconcat(temp_line)\n",
    "        print(\"line\", batch_img.shape)\n",
    "        columns.append(batch_img)\n",
    "\n",
    "    columns.append(h_patch_bot)\n",
    "    batch_img = cv2.vconcat(columns)\n",
    "    print(\"column\", batch_img.shape)\n",
    "    cv2.imwrite(batch_path, batch_img)\n",
    "    batches_paths.append(batch_path)\n",
    "\n",
    "a4inpt = (img2pdf.mm_to_pt(210), img2pdf.mm_to_pt(297))\n",
    "layout_fun = img2pdf.get_layout_fun(a4inpt)\n",
    "with open(pdf_path, \"wb\") as f:\n",
    "    f.write(img2pdf.convert(batches_paths, layout_fun=layout_fun))\n"
   ]
  },
  {
   "cell_type": "code",
   "execution_count": 43,
   "metadata": {},
   "outputs": [],
   "source": [
    "import glob\n",
    "\n",
    "\n",
    "back = sorted(glob.glob(\"data/print_bak/batches/*\"), key=lambda x: int(x.split(\"_\")[-1].split(\".\")[0]))"
   ]
  },
  {
   "cell_type": "code",
   "execution_count": 36,
   "metadata": {},
   "outputs": [
    {
     "data": {
      "text/plain": [
       "['data/print_bak/batches/batch_cards_0.png',\n",
       " 'data/print_bak/batches/batch_cards_1.png',\n",
       " 'data/print_bak/batches/batch_cards_2.png',\n",
       " 'data/print_bak/batches/batch_cards_3.png',\n",
       " 'data/print_bak/batches/batch_cards_4.png',\n",
       " 'data/print_bak/batches/batch_cards_5.png',\n",
       " 'data/print_bak/batches/batch_cards_6.png',\n",
       " 'data/print_bak/batches/batch_cards_7.png',\n",
       " 'data/print_bak/batches/batch_cards_8.png',\n",
       " 'data/print_bak/batches/batch_cards_9.png']"
      ]
     },
     "execution_count": 36,
     "metadata": {},
     "output_type": "execute_result"
    }
   ],
   "source": [
    "back"
   ]
  },
  {
   "cell_type": "code",
   "execution_count": 44,
   "metadata": {},
   "outputs": [
    {
     "name": "stdout",
     "output_type": "stream",
     "text": [
      "0 data/print_bak/batches/batch_cards_0.png data/print/batches/batch_cards_0.png\n",
      "1 data/print_bak/batches/batch_cards_1.png data/print/batches/batch_cards_1.png\n",
      "2 data/print_bak/batches/batch_cards_2.png data/print/batches/batch_cards_2.png\n",
      "3 data/print_bak/batches/batch_cards_3.png data/print/batches/batch_cards_3.png\n",
      "4 data/print_bak/batches/batch_cards_4.png data/print/batches/batch_cards_4.png\n",
      "5 data/print_bak/batches/batch_cards_5.png data/print/batches/batch_cards_5.png\n",
      "6 data/print_bak/batches/batch_cards_6.png data/print/batches/batch_cards_6.png\n",
      "7 data/print_bak/batches/batch_cards_7.png data/print/batches/batch_cards_7.png\n",
      "8 data/print_bak/batches/batch_cards_8.png data/print/batches/batch_cards_8.png\n",
      "9 data/print_bak/batches/batch_cards_9.png data/print/batches/batch_cards_9.png\n",
      "['data/print/batches/batch_cards_0.png', 'data/print_bak/batches/batch_cards_0.png', 'data/print/batches/batch_cards_1.png', 'data/print_bak/batches/batch_cards_1.png', 'data/print/batches/batch_cards_2.png', 'data/print_bak/batches/batch_cards_2.png', 'data/print/batches/batch_cards_3.png', 'data/print_bak/batches/batch_cards_3.png', 'data/print/batches/batch_cards_4.png', 'data/print_bak/batches/batch_cards_4.png', 'data/print/batches/batch_cards_5.png', 'data/print_bak/batches/batch_cards_5.png', 'data/print/batches/batch_cards_6.png', 'data/print_bak/batches/batch_cards_6.png', 'data/print/batches/batch_cards_7.png', 'data/print_bak/batches/batch_cards_7.png', 'data/print/batches/batch_cards_8.png', 'data/print_bak/batches/batch_cards_8.png', 'data/print/batches/batch_cards_9.png', 'data/print_bak/batches/batch_cards_9.png']\n"
     ]
    }
   ],
   "source": [
    "# mix back and front\n",
    "new = []\n",
    "\n",
    "for i, path in enumerate(back):\n",
    "    print(i, back[i], batches_paths[i])\n",
    "    new.append(batches_paths[i])\n",
    "    new.append(back[i])\n",
    "\n",
    "print(new)"
   ]
  },
  {
   "cell_type": "code",
   "execution_count": 45,
   "metadata": {},
   "outputs": [],
   "source": [
    "import glob\n",
    "\n",
    "\n",
    "a4inpt = (img2pdf.mm_to_pt(210), img2pdf.mm_to_pt(297))\n",
    "layout_fun = img2pdf.get_layout_fun(a4inpt)\n",
    "with open(pdf_path, \"wb\") as f:\n",
    "    f.write(img2pdf.convert(new, layout_fun=layout_fun))"
   ]
  },
  {
   "cell_type": "code",
   "execution_count": 9,
   "metadata": {},
   "outputs": [
    {
     "data": {
      "text/plain": [
       "<matplotlib.image.AxesImage at 0x7fe69e3f2800>"
      ]
     },
     "execution_count": 9,
     "metadata": {},
     "output_type": "execute_result"
    },
    {
     "data": {
      "image/png": "[encoded data removed]",
      "text/plain": [
       "<Figure size 640x480 with 1 Axes>"
      ]
     },
     "metadata": {},
     "output_type": "display_data"
    }
   ],
   "source": [
    "#show batch img\n",
    "\n",
    "from matplotlib import pyplot as plt\n",
    "\n",
    "# show rgb image\n",
    "plt.imshow(batch_img)"
   ]
  }
 ],
 "metadata": {
  "kernelspec": {
   "display_name": "dobble",
   "language": "python",
   "name": "python3"
  },
  "language_info": {
   "codemirror_mode": {
    "name": "ipython",
    "version": 3
   },
   "file_extension": ".py",
   "mimetype": "text/x-python",
   "name": "python",
   "nbconvert_exporter": "python",
   "pygments_lexer": "ipython3",
   "version": "3.10.13"
  }
 },
 "nbformat": 4,
 "nbformat_minor": 2
}
